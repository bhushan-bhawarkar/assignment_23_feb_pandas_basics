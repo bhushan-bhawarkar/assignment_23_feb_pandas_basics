{
  "nbformat": 4,
  "nbformat_minor": 0,
  "metadata": {
    "colab": {
      "provenance": []
    },
    "kernelspec": {
      "name": "python3",
      "display_name": "Python 3"
    },
    "language_info": {
      "name": "python"
    }
  },
  "cells": [
    {
      "cell_type": "markdown",
      "source": [
        "Q1. Create a Pandas Series that contains the following data: 4, 8, 15, 16, 23, and 42. Then, print the series."
      ],
      "metadata": {
        "id": "SWSPiFluJRSW"
      }
    },
    {
      "cell_type": "code",
      "source": [
        "import pandas as pd"
      ],
      "metadata": {
        "id": "FITIrH41JSrb"
      },
      "execution_count": null,
      "outputs": []
    },
    {
      "cell_type": "code",
      "source": [
        "data = [4, 8, 15, 16, 23,42]"
      ],
      "metadata": {
        "id": "LadIIOagJamJ"
      },
      "execution_count": null,
      "outputs": []
    },
    {
      "cell_type": "code",
      "source": [
        "series = pd.Series(data)"
      ],
      "metadata": {
        "id": "cfRxA6vjJfXu"
      },
      "execution_count": null,
      "outputs": []
    },
    {
      "cell_type": "code",
      "source": [
        "print(series)"
      ],
      "metadata": {
        "colab": {
          "base_uri": "https://localhost:8080/"
        },
        "id": "a3aPbf_nJmku",
        "outputId": "f7ed6f94-e7f7-4d60-ee11-e2cdfe6f47ee"
      },
      "execution_count": null,
      "outputs": [
        {
          "output_type": "stream",
          "name": "stdout",
          "text": [
            "0     4\n",
            "1     8\n",
            "2    15\n",
            "3    16\n",
            "4    23\n",
            "5    42\n",
            "dtype: int64\n"
          ]
        }
      ]
    },
    {
      "cell_type": "markdown",
      "source": [
        "Q2. Create a variable of list type containing 10 elements in it, and apply pandas.Series function on the\n",
        "variable print it."
      ],
      "metadata": {
        "id": "6tTL2AjOKUO2"
      }
    },
    {
      "cell_type": "code",
      "source": [
        "data1 = [1,2,3,4,5,6,7,8,9,11]"
      ],
      "metadata": {
        "id": "rWu7-ruWKVrO"
      },
      "execution_count": null,
      "outputs": []
    },
    {
      "cell_type": "code",
      "source": [
        "import pandas as pd \n",
        "series = pd.Series(data1)"
      ],
      "metadata": {
        "id": "tZg40olIKjBT"
      },
      "execution_count": null,
      "outputs": []
    },
    {
      "cell_type": "code",
      "source": [
        "series"
      ],
      "metadata": {
        "colab": {
          "base_uri": "https://localhost:8080/"
        },
        "id": "3VmqFgmQKzBg",
        "outputId": "158312e3-dc06-4fb1-e106-a0d155b365b5"
      },
      "execution_count": null,
      "outputs": [
        {
          "output_type": "execute_result",
          "data": {
            "text/plain": [
              "0     1\n",
              "1     2\n",
              "2     3\n",
              "3     4\n",
              "4     5\n",
              "5     6\n",
              "6     7\n",
              "7     8\n",
              "8     9\n",
              "9    11\n",
              "dtype: int64"
            ]
          },
          "metadata": {},
          "execution_count": 10
        }
      ]
    },
    {
      "cell_type": "markdown",
      "source": [
        "Q3. Create a Pandas DataFrame that contains the following data:"
      ],
      "metadata": {
        "id": "wxIo1y6sLu4D"
      }
    },
    {
      "cell_type": "markdown",
      "source": [
        "Name\n",
        "Alice\n",
        "Bob\n",
        "Claire\n",
        "\n",
        "Age\n",
        "25\n",
        "30\n",
        "27\n",
        "\n",
        "Gender\n",
        "Female\n",
        "Male\n",
        "Female"
      ],
      "metadata": {
        "id": "pNEzL-bfLwVo"
      }
    },
    {
      "cell_type": "code",
      "source": [
        "import pandas as pd \n",
        "data = {\"Name\":[\"Alice\",\"Bob\" ,\"Claire\"],\n",
        "        \"Age\":[25,30,27],\n",
        "        \"Gender\":[\"Female\",\"Male\" ,\"Female\"]}"
      ],
      "metadata": {
        "id": "fSfqkZk8L070"
      },
      "execution_count": null,
      "outputs": []
    },
    {
      "cell_type": "code",
      "source": [
        "data_frame = pd.DataFrame(data)\n",
        "print(data_frame)"
      ],
      "metadata": {
        "colab": {
          "base_uri": "https://localhost:8080/"
        },
        "id": "eGYh1RJOMfRT",
        "outputId": "416d1847-7f47-425b-cbdd-6b5235e75610"
      },
      "execution_count": null,
      "outputs": [
        {
          "output_type": "stream",
          "name": "stdout",
          "text": [
            "     Name  Age  Gender\n",
            "0   Alice   25  Female\n",
            "1     Bob   30    Male\n",
            "2  Claire   27  Female\n"
          ]
        }
      ]
    },
    {
      "cell_type": "code",
      "source": [
        "a = data_frame.to_csv(\"jjk.csv\")"
      ],
      "metadata": {
        "id": "fgXzkiUxM1VE"
      },
      "execution_count": null,
      "outputs": []
    },
    {
      "cell_type": "code",
      "source": [
        "pd.read_csv(\"jjk.csv\")"
      ],
      "metadata": {
        "colab": {
          "base_uri": "https://localhost:8080/",
          "height": 143
        },
        "id": "9dblfrNFNGis",
        "outputId": "66779c02-8437-4adc-f96e-f9f0b561a16b"
      },
      "execution_count": null,
      "outputs": [
        {
          "output_type": "execute_result",
          "data": {
            "text/plain": [
              "   Unnamed: 0    Name  Age  Gender\n",
              "0           0   Alice   25  Female\n",
              "1           1     Bob   30    Male\n",
              "2           2  Claire   27  Female"
            ],
            "text/html": [
              "\n",
              "  <div id=\"df-cd88918e-de0b-45a6-b813-15f52dcd6140\">\n",
              "    <div class=\"colab-df-container\">\n",
              "      <div>\n",
              "<style scoped>\n",
              "    .dataframe tbody tr th:only-of-type {\n",
              "        vertical-align: middle;\n",
              "    }\n",
              "\n",
              "    .dataframe tbody tr th {\n",
              "        vertical-align: top;\n",
              "    }\n",
              "\n",
              "    .dataframe thead th {\n",
              "        text-align: right;\n",
              "    }\n",
              "</style>\n",
              "<table border=\"1\" class=\"dataframe\">\n",
              "  <thead>\n",
              "    <tr style=\"text-align: right;\">\n",
              "      <th></th>\n",
              "      <th>Unnamed: 0</th>\n",
              "      <th>Name</th>\n",
              "      <th>Age</th>\n",
              "      <th>Gender</th>\n",
              "    </tr>\n",
              "  </thead>\n",
              "  <tbody>\n",
              "    <tr>\n",
              "      <th>0</th>\n",
              "      <td>0</td>\n",
              "      <td>Alice</td>\n",
              "      <td>25</td>\n",
              "      <td>Female</td>\n",
              "    </tr>\n",
              "    <tr>\n",
              "      <th>1</th>\n",
              "      <td>1</td>\n",
              "      <td>Bob</td>\n",
              "      <td>30</td>\n",
              "      <td>Male</td>\n",
              "    </tr>\n",
              "    <tr>\n",
              "      <th>2</th>\n",
              "      <td>2</td>\n",
              "      <td>Claire</td>\n",
              "      <td>27</td>\n",
              "      <td>Female</td>\n",
              "    </tr>\n",
              "  </tbody>\n",
              "</table>\n",
              "</div>\n",
              "      <button class=\"colab-df-convert\" onclick=\"convertToInteractive('df-cd88918e-de0b-45a6-b813-15f52dcd6140')\"\n",
              "              title=\"Convert this dataframe to an interactive table.\"\n",
              "              style=\"display:none;\">\n",
              "        \n",
              "  <svg xmlns=\"http://www.w3.org/2000/svg\" height=\"24px\"viewBox=\"0 0 24 24\"\n",
              "       width=\"24px\">\n",
              "    <path d=\"M0 0h24v24H0V0z\" fill=\"none\"/>\n",
              "    <path d=\"M18.56 5.44l.94 2.06.94-2.06 2.06-.94-2.06-.94-.94-2.06-.94 2.06-2.06.94zm-11 1L8.5 8.5l.94-2.06 2.06-.94-2.06-.94L8.5 2.5l-.94 2.06-2.06.94zm10 10l.94 2.06.94-2.06 2.06-.94-2.06-.94-.94-2.06-.94 2.06-2.06.94z\"/><path d=\"M17.41 7.96l-1.37-1.37c-.4-.4-.92-.59-1.43-.59-.52 0-1.04.2-1.43.59L10.3 9.45l-7.72 7.72c-.78.78-.78 2.05 0 2.83L4 21.41c.39.39.9.59 1.41.59.51 0 1.02-.2 1.41-.59l7.78-7.78 2.81-2.81c.8-.78.8-2.07 0-2.86zM5.41 20L4 18.59l7.72-7.72 1.47 1.35L5.41 20z\"/>\n",
              "  </svg>\n",
              "      </button>\n",
              "      \n",
              "  <style>\n",
              "    .colab-df-container {\n",
              "      display:flex;\n",
              "      flex-wrap:wrap;\n",
              "      gap: 12px;\n",
              "    }\n",
              "\n",
              "    .colab-df-convert {\n",
              "      background-color: #E8F0FE;\n",
              "      border: none;\n",
              "      border-radius: 50%;\n",
              "      cursor: pointer;\n",
              "      display: none;\n",
              "      fill: #1967D2;\n",
              "      height: 32px;\n",
              "      padding: 0 0 0 0;\n",
              "      width: 32px;\n",
              "    }\n",
              "\n",
              "    .colab-df-convert:hover {\n",
              "      background-color: #E2EBFA;\n",
              "      box-shadow: 0px 1px 2px rgba(60, 64, 67, 0.3), 0px 1px 3px 1px rgba(60, 64, 67, 0.15);\n",
              "      fill: #174EA6;\n",
              "    }\n",
              "\n",
              "    [theme=dark] .colab-df-convert {\n",
              "      background-color: #3B4455;\n",
              "      fill: #D2E3FC;\n",
              "    }\n",
              "\n",
              "    [theme=dark] .colab-df-convert:hover {\n",
              "      background-color: #434B5C;\n",
              "      box-shadow: 0px 1px 3px 1px rgba(0, 0, 0, 0.15);\n",
              "      filter: drop-shadow(0px 1px 2px rgba(0, 0, 0, 0.3));\n",
              "      fill: #FFFFFF;\n",
              "    }\n",
              "  </style>\n",
              "\n",
              "      <script>\n",
              "        const buttonEl =\n",
              "          document.querySelector('#df-cd88918e-de0b-45a6-b813-15f52dcd6140 button.colab-df-convert');\n",
              "        buttonEl.style.display =\n",
              "          google.colab.kernel.accessAllowed ? 'block' : 'none';\n",
              "\n",
              "        async function convertToInteractive(key) {\n",
              "          const element = document.querySelector('#df-cd88918e-de0b-45a6-b813-15f52dcd6140');\n",
              "          const dataTable =\n",
              "            await google.colab.kernel.invokeFunction('convertToInteractive',\n",
              "                                                     [key], {});\n",
              "          if (!dataTable) return;\n",
              "\n",
              "          const docLinkHtml = 'Like what you see? Visit the ' +\n",
              "            '<a target=\"_blank\" href=https://colab.research.google.com/notebooks/data_table.ipynb>data table notebook</a>'\n",
              "            + ' to learn more about interactive tables.';\n",
              "          element.innerHTML = '';\n",
              "          dataTable['output_type'] = 'display_data';\n",
              "          await google.colab.output.renderOutput(dataTable, element);\n",
              "          const docLink = document.createElement('div');\n",
              "          docLink.innerHTML = docLinkHtml;\n",
              "          element.appendChild(docLink);\n",
              "        }\n",
              "      </script>\n",
              "    </div>\n",
              "  </div>\n",
              "  "
            ]
          },
          "metadata": {},
          "execution_count": 19
        }
      ]
    },
    {
      "cell_type": "markdown",
      "source": [
        "Q4. What is ‘DataFrame’ in pandas and how is it different from pandas.series? Explain with an example."
      ],
      "metadata": {
        "id": "zEwaFo-JN4x8"
      }
    },
    {
      "cell_type": "markdown",
      "source": [
        "In Pandas, a DataFrame is a 2-dimensional labeled data structure with columns of potentially different types, similar to a table in a relational database. It can be thought of as a collection of Pandas series, where each column represents a series. In other words, a DataFrame is a collection of series that share the same index.\n",
        "\n",
        "On the other hand, a Series is a 1-dimensional labeled array that can hold data of any type (integer, string, float, Python objects, etc.). It is similar to a column in a table or a single vector in statistics.\n",
        "\n",
        "Here's an example to illustrate the difference between a DataFrame and a Series:"
      ],
      "metadata": {
        "id": "JVJU67RQN7Pz"
      }
    },
    {
      "cell_type": "code",
      "source": [
        "import pandas as pd\n",
        "\n",
        "# create a Series\n",
        "s = pd.Series([1, 2, 3, 4])\n",
        "\n",
        "# create a DataFrame from a dictionary\n",
        "data = {\n",
        "    'name': ['Alice', 'Bob', 'Charlie', 'David'],\n",
        "    'age': [25, 32, 18, 47],\n",
        "    'gender': ['female', 'male', 'male', 'male']\n",
        "}\n",
        "df = pd.DataFrame(data)\n",
        "\n",
        "# print the Series and the DataFrame\n",
        "print(s)\n",
        "print(df)\n"
      ],
      "metadata": {
        "id": "4hVBPmPTQI9d"
      },
      "execution_count": null,
      "outputs": []
    },
    {
      "cell_type": "markdown",
      "source": [
        "In this example, we first create a Series called s with four integer values. Then, we create a DataFrame called df from a dictionary with three columns (name, age, and gender), each containing a list of values. Finally, we print both the Series and the DataFrame to the console using the print function.\n",
        "\n",
        "As you can see, the Series has only one column of data, while the DataFrame has three columns. Additionally, the Series has an implicit index (0 to 3), while the DataFrame has a separate index for each row (0 to 3 in this case) that can be accessed using the df.index attribute."
      ],
      "metadata": {
        "id": "vst2uDK8RrFF"
      }
    },
    {
      "cell_type": "markdown",
      "source": [
        "Q5. What are some common functions you can use to manipulate data in a Pandas DataFrame? Can\n",
        "you give an example of when you might use one of these functions?"
      ],
      "metadata": {
        "id": "sR7clWumtiLY"
      }
    },
    {
      "cell_type": "markdown",
      "source": [
        "Q7. Create a DataFrame using multiple Series. Explain with an example."
      ],
      "metadata": {
        "id": "ji6fvFnBRw0k"
      }
    },
    {
      "cell_type": "markdown",
      "source": [
        "There are many common functions that can be used to manipulate data in a Pandas DataFrame. Some examples include:\n",
        "\n",
        "head() and tail(): These functions can be used to display the first or last n rows of a DataFrame. For example, df.head(10) will display the first 10 rows of the DataFrame df.\n",
        "\n",
        "describe(): This function provides a summary of the numerical columns in the DataFrame, including count, mean, standard deviation, minimum, maximum, and quartiles. For example, df.describe() will display a summary of the DataFrame df.\n",
        "\n",
        "dropna(): This function can be used to remove rows or columns with missing values from the DataFrame. For example, df.dropna() will remove all rows with missing values from the DataFrame df.\n",
        "\n",
        "fillna(): This function can be used to fill missing values in the DataFrame with a specified value or method. For example, df.fillna(0) will replace all missing values in the DataFrame df with 0.\n",
        "\n",
        "groupby(): This function can be used to group the rows of a DataFrame based on one or more columns, and apply a function to each group. For example, df.groupby('category').mean() will group the rows of the DataFrame df by the 'category' column, and calculate the mean of the numerical columns for each group.\n",
        "\n",
        "sort_values(): This function can be used to sort the rows of a DataFrame based on one or more columns. For example, df.sort_values('column_name') will sort the rows of the DataFrame df based on the values in the 'column_name' column.\n",
        "\n",
        "pivot_table(): This function can be used to create a pivot table from the DataFrame. For example, pd.pivot_table(df, values='value', index='index_column', columns='column_name') will create a pivot table from the DataFrame df with 'index_column' as the index, 'column_name' as the columns, and 'value' as the values.\n",
        "\n",
        "apply(): This function can be used to apply a function to each row or column of the DataFrame. For example, df.apply(lambda x: x.max() - x.min()) will calculate the range of each column in the DataFrame df.\n",
        "\n",
        "These are just a few examples of the many functions available in Pandas for manipulating data in a DataFrame."
      ],
      "metadata": {
        "id": "iXm1bmP2v3WP"
      }
    },
    {
      "cell_type": "markdown",
      "source": [
        "Q6. Which of the following is mutable in nature Series, DataFrame, Panel?"
      ],
      "metadata": {
        "id": "TLXfZnwQv5bj"
      }
    },
    {
      "cell_type": "markdown",
      "source": [
        "In Pandas, both Series and DataFrame are mutable in nature, while Panel is immutable.\n",
        "\n",
        "When we modify a Series or DataFrame object by adding, deleting, or updating values or columns, the changes are reflected in the original object. For example, if we add a new column to a DataFrame using the df['new_column'] = values syntax, the original DataFrame df will be modified to include the new column.\n",
        "\n",
        "On the other hand, Panel is an immutable three-dimensional data structure in Pandas that has been deprecated since version 0.25.0. This means that once a Panel object is created, its data cannot be modified. Instead, new Panel objects must be created with modified data. However, since Panels are rarely used in practice, this is not a major issue."
      ],
      "metadata": {
        "id": "woCzdb6wwYgO"
      }
    },
    {
      "cell_type": "code",
      "source": [
        "import pandas as pd\n",
        "\n",
        "name_and_age = {\"Name\":[\"Bhushan\",\"Kunal\",\"Shreyash\",\"yash\",\"karan\"],\n",
        "                \"Age\":[21,23,24,21,25]}\n",
        "\n",
        "name_and_hight = {\"Bhushan\":146 ,\n",
        "                  \"Kunal\":167,\n",
        "                  \"Shreyash\":167,\n",
        "                  \"yash\":189,\n",
        "                  \"karan\":178\n",
        "                  }   \n",
        "name_and_age_series = pd.Series(name_and_age)   \n",
        "name_and_hight_series = pd.Series(name_and_hight)\n",
        "\n",
        "pd.DataFrame({\"name\":name_and_age_series[\"Name\"],\"age\":name_and_age_series[\"Age\"],\"Hight\":name_and_hight_series})\n",
        "\n",
        "\n",
        "\n",
        "\n",
        "\n"
      ],
      "metadata": {
        "colab": {
          "base_uri": "https://localhost:8080/",
          "height": 206
        },
        "id": "mSgzRHHHpQAi",
        "outputId": "be4a50d5-2b57-4c47-a470-cbdc110663ec"
      },
      "execution_count": 11,
      "outputs": [
        {
          "output_type": "execute_result",
          "data": {
            "text/plain": [
              "              name  age  Hight\n",
              "Bhushan    Bhushan   21    146\n",
              "Kunal        Kunal   23    167\n",
              "Shreyash  Shreyash   24    167\n",
              "yash          yash   21    189\n",
              "karan        karan   25    178"
            ],
            "text/html": [
              "\n",
              "  <div id=\"df-b9c49c16-24af-4600-b216-99ff548fc0c2\">\n",
              "    <div class=\"colab-df-container\">\n",
              "      <div>\n",
              "<style scoped>\n",
              "    .dataframe tbody tr th:only-of-type {\n",
              "        vertical-align: middle;\n",
              "    }\n",
              "\n",
              "    .dataframe tbody tr th {\n",
              "        vertical-align: top;\n",
              "    }\n",
              "\n",
              "    .dataframe thead th {\n",
              "        text-align: right;\n",
              "    }\n",
              "</style>\n",
              "<table border=\"1\" class=\"dataframe\">\n",
              "  <thead>\n",
              "    <tr style=\"text-align: right;\">\n",
              "      <th></th>\n",
              "      <th>name</th>\n",
              "      <th>age</th>\n",
              "      <th>Hight</th>\n",
              "    </tr>\n",
              "  </thead>\n",
              "  <tbody>\n",
              "    <tr>\n",
              "      <th>Bhushan</th>\n",
              "      <td>Bhushan</td>\n",
              "      <td>21</td>\n",
              "      <td>146</td>\n",
              "    </tr>\n",
              "    <tr>\n",
              "      <th>Kunal</th>\n",
              "      <td>Kunal</td>\n",
              "      <td>23</td>\n",
              "      <td>167</td>\n",
              "    </tr>\n",
              "    <tr>\n",
              "      <th>Shreyash</th>\n",
              "      <td>Shreyash</td>\n",
              "      <td>24</td>\n",
              "      <td>167</td>\n",
              "    </tr>\n",
              "    <tr>\n",
              "      <th>yash</th>\n",
              "      <td>yash</td>\n",
              "      <td>21</td>\n",
              "      <td>189</td>\n",
              "    </tr>\n",
              "    <tr>\n",
              "      <th>karan</th>\n",
              "      <td>karan</td>\n",
              "      <td>25</td>\n",
              "      <td>178</td>\n",
              "    </tr>\n",
              "  </tbody>\n",
              "</table>\n",
              "</div>\n",
              "      <button class=\"colab-df-convert\" onclick=\"convertToInteractive('df-b9c49c16-24af-4600-b216-99ff548fc0c2')\"\n",
              "              title=\"Convert this dataframe to an interactive table.\"\n",
              "              style=\"display:none;\">\n",
              "        \n",
              "  <svg xmlns=\"http://www.w3.org/2000/svg\" height=\"24px\"viewBox=\"0 0 24 24\"\n",
              "       width=\"24px\">\n",
              "    <path d=\"M0 0h24v24H0V0z\" fill=\"none\"/>\n",
              "    <path d=\"M18.56 5.44l.94 2.06.94-2.06 2.06-.94-2.06-.94-.94-2.06-.94 2.06-2.06.94zm-11 1L8.5 8.5l.94-2.06 2.06-.94-2.06-.94L8.5 2.5l-.94 2.06-2.06.94zm10 10l.94 2.06.94-2.06 2.06-.94-2.06-.94-.94-2.06-.94 2.06-2.06.94z\"/><path d=\"M17.41 7.96l-1.37-1.37c-.4-.4-.92-.59-1.43-.59-.52 0-1.04.2-1.43.59L10.3 9.45l-7.72 7.72c-.78.78-.78 2.05 0 2.83L4 21.41c.39.39.9.59 1.41.59.51 0 1.02-.2 1.41-.59l7.78-7.78 2.81-2.81c.8-.78.8-2.07 0-2.86zM5.41 20L4 18.59l7.72-7.72 1.47 1.35L5.41 20z\"/>\n",
              "  </svg>\n",
              "      </button>\n",
              "      \n",
              "  <style>\n",
              "    .colab-df-container {\n",
              "      display:flex;\n",
              "      flex-wrap:wrap;\n",
              "      gap: 12px;\n",
              "    }\n",
              "\n",
              "    .colab-df-convert {\n",
              "      background-color: #E8F0FE;\n",
              "      border: none;\n",
              "      border-radius: 50%;\n",
              "      cursor: pointer;\n",
              "      display: none;\n",
              "      fill: #1967D2;\n",
              "      height: 32px;\n",
              "      padding: 0 0 0 0;\n",
              "      width: 32px;\n",
              "    }\n",
              "\n",
              "    .colab-df-convert:hover {\n",
              "      background-color: #E2EBFA;\n",
              "      box-shadow: 0px 1px 2px rgba(60, 64, 67, 0.3), 0px 1px 3px 1px rgba(60, 64, 67, 0.15);\n",
              "      fill: #174EA6;\n",
              "    }\n",
              "\n",
              "    [theme=dark] .colab-df-convert {\n",
              "      background-color: #3B4455;\n",
              "      fill: #D2E3FC;\n",
              "    }\n",
              "\n",
              "    [theme=dark] .colab-df-convert:hover {\n",
              "      background-color: #434B5C;\n",
              "      box-shadow: 0px 1px 3px 1px rgba(0, 0, 0, 0.15);\n",
              "      filter: drop-shadow(0px 1px 2px rgba(0, 0, 0, 0.3));\n",
              "      fill: #FFFFFF;\n",
              "    }\n",
              "  </style>\n",
              "\n",
              "      <script>\n",
              "        const buttonEl =\n",
              "          document.querySelector('#df-b9c49c16-24af-4600-b216-99ff548fc0c2 button.colab-df-convert');\n",
              "        buttonEl.style.display =\n",
              "          google.colab.kernel.accessAllowed ? 'block' : 'none';\n",
              "\n",
              "        async function convertToInteractive(key) {\n",
              "          const element = document.querySelector('#df-b9c49c16-24af-4600-b216-99ff548fc0c2');\n",
              "          const dataTable =\n",
              "            await google.colab.kernel.invokeFunction('convertToInteractive',\n",
              "                                                     [key], {});\n",
              "          if (!dataTable) return;\n",
              "\n",
              "          const docLinkHtml = 'Like what you see? Visit the ' +\n",
              "            '<a target=\"_blank\" href=https://colab.research.google.com/notebooks/data_table.ipynb>data table notebook</a>'\n",
              "            + ' to learn more about interactive tables.';\n",
              "          element.innerHTML = '';\n",
              "          dataTable['output_type'] = 'display_data';\n",
              "          await google.colab.output.renderOutput(dataTable, element);\n",
              "          const docLink = document.createElement('div');\n",
              "          docLink.innerHTML = docLinkHtml;\n",
              "          element.appendChild(docLink);\n",
              "        }\n",
              "      </script>\n",
              "    </div>\n",
              "  </div>\n",
              "  "
            ]
          },
          "metadata": {},
          "execution_count": 11
        }
      ]
    },
    {
      "cell_type": "code",
      "source": [],
      "metadata": {
        "id": "ZerdlefupZFY"
      },
      "execution_count": null,
      "outputs": []
    }
  ]
}